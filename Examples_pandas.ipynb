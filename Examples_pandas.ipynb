{
 "cells": [
  {
   "cell_type": "code",
   "execution_count": 1,
   "id": "aaa391a7-ec39-4646-a332-5eb928851f69",
   "metadata": {},
   "outputs": [],
   "source": [
    "import pandas as pd"
   ]
  },
  {
   "cell_type": "code",
   "execution_count": 2,
   "id": "c918fa7e-921d-496e-8de3-0e11b11e179b",
   "metadata": {},
   "outputs": [
    {
     "data": {
      "text/html": [
       "<div>\n",
       "<style scoped>\n",
       "    .dataframe tbody tr th:only-of-type {\n",
       "        vertical-align: middle;\n",
       "    }\n",
       "\n",
       "    .dataframe tbody tr th {\n",
       "        vertical-align: top;\n",
       "    }\n",
       "\n",
       "    .dataframe thead th {\n",
       "        text-align: right;\n",
       "    }\n",
       "</style>\n",
       "<table border=\"1\" class=\"dataframe\">\n",
       "  <thead>\n",
       "    <tr style=\"text-align: right;\">\n",
       "      <th></th>\n",
       "      <th>Unnamed: 0</th>\n",
       "      <th>country</th>\n",
       "      <th>description</th>\n",
       "      <th>name</th>\n",
       "      <th>points</th>\n",
       "      <th>price</th>\n",
       "      <th>province</th>\n",
       "      <th>region_1</th>\n",
       "      <th>region_2</th>\n",
       "      <th>taster_name</th>\n",
       "      <th>taster_twitter_handle</th>\n",
       "      <th>title</th>\n",
       "      <th>variety</th>\n",
       "      <th>winery</th>\n",
       "    </tr>\n",
       "  </thead>\n",
       "  <tbody>\n",
       "    <tr>\n",
       "      <th>0</th>\n",
       "      <td>0</td>\n",
       "      <td>Italy</td>\n",
       "      <td>Aromas include tropical fruit, broom, brimston...</td>\n",
       "      <td>Vulkà Bianco</td>\n",
       "      <td>87</td>\n",
       "      <td>NaN</td>\n",
       "      <td>Sicily &amp; Sardinia</td>\n",
       "      <td>Etna</td>\n",
       "      <td>NaN</td>\n",
       "      <td>Kerin O’Keefe</td>\n",
       "      <td>@kerinokeefe</td>\n",
       "      <td>Nicosia 2013 Vulkà Bianco  (Etna)</td>\n",
       "      <td>White Blend</td>\n",
       "      <td>Nicosia</td>\n",
       "    </tr>\n",
       "    <tr>\n",
       "      <th>1</th>\n",
       "      <td>1</td>\n",
       "      <td>Portugal</td>\n",
       "      <td>This is ripe and fruity, a wine that is smooth...</td>\n",
       "      <td>Avidagos</td>\n",
       "      <td>87</td>\n",
       "      <td>15.0</td>\n",
       "      <td>Douro</td>\n",
       "      <td>NaN</td>\n",
       "      <td>NaN</td>\n",
       "      <td>Roger Voss</td>\n",
       "      <td>@vossroger</td>\n",
       "      <td>Quinta dos Avidagos 2011 Avidagos Red (Douro)</td>\n",
       "      <td>Portuguese Red</td>\n",
       "      <td>Quinta dos Avidagos</td>\n",
       "    </tr>\n",
       "    <tr>\n",
       "      <th>2</th>\n",
       "      <td>2</td>\n",
       "      <td>US</td>\n",
       "      <td>Tart and snappy, the flavors of lime flesh and...</td>\n",
       "      <td>NaN</td>\n",
       "      <td>87</td>\n",
       "      <td>14.0</td>\n",
       "      <td>Oregon</td>\n",
       "      <td>Willamette Valley</td>\n",
       "      <td>Willamette Valley</td>\n",
       "      <td>Paul Gregutt</td>\n",
       "      <td>@paulgwine</td>\n",
       "      <td>Rainstorm 2013 Pinot Gris (Willamette Valley)</td>\n",
       "      <td>Pinot Gris</td>\n",
       "      <td>Rainstorm</td>\n",
       "    </tr>\n",
       "  </tbody>\n",
       "</table>\n",
       "</div>"
      ],
      "text/plain": [
       "   Unnamed: 0   country                                        description  \\\n",
       "0           0     Italy  Aromas include tropical fruit, broom, brimston...   \n",
       "1           1  Portugal  This is ripe and fruity, a wine that is smooth...   \n",
       "2           2        US  Tart and snappy, the flavors of lime flesh and...   \n",
       "\n",
       "           name  points  price           province           region_1  \\\n",
       "0  Vulkà Bianco      87    NaN  Sicily & Sardinia               Etna   \n",
       "1      Avidagos      87   15.0              Douro                NaN   \n",
       "2           NaN      87   14.0             Oregon  Willamette Valley   \n",
       "\n",
       "            region_2    taster_name taster_twitter_handle  \\\n",
       "0                NaN  Kerin O’Keefe          @kerinokeefe   \n",
       "1                NaN     Roger Voss            @vossroger   \n",
       "2  Willamette Valley   Paul Gregutt           @paulgwine    \n",
       "\n",
       "                                           title         variety  \\\n",
       "0              Nicosia 2013 Vulkà Bianco  (Etna)     White Blend   \n",
       "1  Quinta dos Avidagos 2011 Avidagos Red (Douro)  Portuguese Red   \n",
       "2  Rainstorm 2013 Pinot Gris (Willamette Valley)      Pinot Gris   \n",
       "\n",
       "                winery  \n",
       "0              Nicosia  \n",
       "1  Quinta dos Avidagos  \n",
       "2            Rainstorm  "
      ]
     },
     "execution_count": 2,
     "metadata": {},
     "output_type": "execute_result"
    }
   ],
   "source": [
    "df = pd.read_csv(\"wines.csv\")\n",
    "df[0:3]"
   ]
  },
  {
   "cell_type": "markdown",
   "id": "125a3f2e-71b3-4b2b-9952-aa6d8f0fcf85",
   "metadata": {},
   "source": [
    "## how many wines have been given a rating of 100 points"
   ]
  },
  {
   "cell_type": "code",
   "execution_count": 4,
   "id": "aa2c1eef-5524-4911-8f6e-2331a30734d1",
   "metadata": {},
   "outputs": [
    {
     "data": {
      "text/plain": [
       "Index(['Unnamed: 0', 'country', 'description', 'name', 'points', 'price',\n",
       "       'province', 'region_1', 'region_2', 'taster_name',\n",
       "       'taster_twitter_handle', 'title', 'variety', 'winery'],\n",
       "      dtype='object')"
      ]
     },
     "execution_count": 4,
     "metadata": {},
     "output_type": "execute_result"
    }
   ],
   "source": [
    "df.columns"
   ]
  },
  {
   "cell_type": "code",
   "execution_count": 6,
   "id": "35a2f2cd-a13f-4c28-b100-e5cb18f4f211",
   "metadata": {},
   "outputs": [
    {
     "data": {
      "text/plain": [
       "19"
      ]
     },
     "execution_count": 6,
     "metadata": {},
     "output_type": "execute_result"
    }
   ],
   "source": [
    "df['points'].loc[df['points']==100].count()"
   ]
  },
  {
   "cell_type": "markdown",
   "id": "0c3b185d-2735-4c03-b3e1-25da29d70901",
   "metadata": {},
   "source": [
    "## Most expensive wine"
   ]
  },
  {
   "cell_type": "code",
   "execution_count": 11,
   "id": "8bd23482-0e89-49cb-9a08-8dde43679e63",
   "metadata": {},
   "outputs": [],
   "source": [
    "x = df['price'].max()"
   ]
  },
  {
   "cell_type": "code",
   "execution_count": 9,
   "id": "b4bd8fbf-9985-4be5-8d3e-595c96f91fe6",
   "metadata": {},
   "outputs": [
    {
     "data": {
      "text/plain": [
       "1"
      ]
     },
     "execution_count": 9,
     "metadata": {},
     "output_type": "execute_result"
    }
   ],
   "source": [
    "df['price'].loc[df['price']==x].count()"
   ]
  },
  {
   "cell_type": "code",
   "execution_count": 13,
   "id": "07273442-1613-415c-b0be-9d9e7301b196",
   "metadata": {},
   "outputs": [
    {
     "data": {
      "text/plain": [
       "3300.0"
      ]
     },
     "execution_count": 13,
     "metadata": {},
     "output_type": "execute_result"
    }
   ],
   "source": [
    "df['price'].max()"
   ]
  },
  {
   "cell_type": "markdown",
   "id": "f4d4994c-47a5-417a-9553-a4307bf314f3",
   "metadata": {},
   "source": [
    "## new column with new rating from 0 to 5"
   ]
  },
  {
   "cell_type": "code",
   "execution_count": 14,
   "id": "32b88089-4e30-4144-81d7-daed0bf7af7e",
   "metadata": {},
   "outputs": [
    {
     "data": {
      "text/html": [
       "<div>\n",
       "<style scoped>\n",
       "    .dataframe tbody tr th:only-of-type {\n",
       "        vertical-align: middle;\n",
       "    }\n",
       "\n",
       "    .dataframe tbody tr th {\n",
       "        vertical-align: top;\n",
       "    }\n",
       "\n",
       "    .dataframe thead th {\n",
       "        text-align: right;\n",
       "    }\n",
       "</style>\n",
       "<table border=\"1\" class=\"dataframe\">\n",
       "  <thead>\n",
       "    <tr style=\"text-align: right;\">\n",
       "      <th></th>\n",
       "      <th>Unnamed: 0</th>\n",
       "      <th>country</th>\n",
       "      <th>description</th>\n",
       "      <th>name</th>\n",
       "      <th>points</th>\n",
       "      <th>price</th>\n",
       "      <th>province</th>\n",
       "      <th>region_1</th>\n",
       "      <th>region_2</th>\n",
       "      <th>taster_name</th>\n",
       "      <th>taster_twitter_handle</th>\n",
       "      <th>title</th>\n",
       "      <th>variety</th>\n",
       "      <th>winery</th>\n",
       "      <th>rating0_5</th>\n",
       "    </tr>\n",
       "  </thead>\n",
       "  <tbody>\n",
       "    <tr>\n",
       "      <th>0</th>\n",
       "      <td>0</td>\n",
       "      <td>Italy</td>\n",
       "      <td>Aromas include tropical fruit, broom, brimston...</td>\n",
       "      <td>Vulkà Bianco</td>\n",
       "      <td>87</td>\n",
       "      <td>NaN</td>\n",
       "      <td>Sicily &amp; Sardinia</td>\n",
       "      <td>Etna</td>\n",
       "      <td>NaN</td>\n",
       "      <td>Kerin O’Keefe</td>\n",
       "      <td>@kerinokeefe</td>\n",
       "      <td>Nicosia 2013 Vulkà Bianco  (Etna)</td>\n",
       "      <td>White Blend</td>\n",
       "      <td>Nicosia</td>\n",
       "      <td>4.35</td>\n",
       "    </tr>\n",
       "    <tr>\n",
       "      <th>1</th>\n",
       "      <td>1</td>\n",
       "      <td>Portugal</td>\n",
       "      <td>This is ripe and fruity, a wine that is smooth...</td>\n",
       "      <td>Avidagos</td>\n",
       "      <td>87</td>\n",
       "      <td>15.0</td>\n",
       "      <td>Douro</td>\n",
       "      <td>NaN</td>\n",
       "      <td>NaN</td>\n",
       "      <td>Roger Voss</td>\n",
       "      <td>@vossroger</td>\n",
       "      <td>Quinta dos Avidagos 2011 Avidagos Red (Douro)</td>\n",
       "      <td>Portuguese Red</td>\n",
       "      <td>Quinta dos Avidagos</td>\n",
       "      <td>4.35</td>\n",
       "    </tr>\n",
       "    <tr>\n",
       "      <th>2</th>\n",
       "      <td>2</td>\n",
       "      <td>US</td>\n",
       "      <td>Tart and snappy, the flavors of lime flesh and...</td>\n",
       "      <td>NaN</td>\n",
       "      <td>87</td>\n",
       "      <td>14.0</td>\n",
       "      <td>Oregon</td>\n",
       "      <td>Willamette Valley</td>\n",
       "      <td>Willamette Valley</td>\n",
       "      <td>Paul Gregutt</td>\n",
       "      <td>@paulgwine</td>\n",
       "      <td>Rainstorm 2013 Pinot Gris (Willamette Valley)</td>\n",
       "      <td>Pinot Gris</td>\n",
       "      <td>Rainstorm</td>\n",
       "      <td>4.35</td>\n",
       "    </tr>\n",
       "  </tbody>\n",
       "</table>\n",
       "</div>"
      ],
      "text/plain": [
       "   Unnamed: 0   country                                        description  \\\n",
       "0           0     Italy  Aromas include tropical fruit, broom, brimston...   \n",
       "1           1  Portugal  This is ripe and fruity, a wine that is smooth...   \n",
       "2           2        US  Tart and snappy, the flavors of lime flesh and...   \n",
       "\n",
       "           name  points  price           province           region_1  \\\n",
       "0  Vulkà Bianco      87    NaN  Sicily & Sardinia               Etna   \n",
       "1      Avidagos      87   15.0              Douro                NaN   \n",
       "2           NaN      87   14.0             Oregon  Willamette Valley   \n",
       "\n",
       "            region_2    taster_name taster_twitter_handle  \\\n",
       "0                NaN  Kerin O’Keefe          @kerinokeefe   \n",
       "1                NaN     Roger Voss            @vossroger   \n",
       "2  Willamette Valley   Paul Gregutt           @paulgwine    \n",
       "\n",
       "                                           title         variety  \\\n",
       "0              Nicosia 2013 Vulkà Bianco  (Etna)     White Blend   \n",
       "1  Quinta dos Avidagos 2011 Avidagos Red (Douro)  Portuguese Red   \n",
       "2  Rainstorm 2013 Pinot Gris (Willamette Valley)      Pinot Gris   \n",
       "\n",
       "                winery  rating0_5  \n",
       "0              Nicosia       4.35  \n",
       "1  Quinta dos Avidagos       4.35  \n",
       "2            Rainstorm       4.35  "
      ]
     },
     "execution_count": 14,
     "metadata": {},
     "output_type": "execute_result"
    }
   ],
   "source": [
    "df['rating0_5'] = df['points']/20\n",
    "df[0:3]"
   ]
  },
  {
   "cell_type": "markdown",
   "id": "733781d7-b21d-4a24-9b3a-dba7dec9773d",
   "metadata": {},
   "source": [
    "## Несколько условий при выборе строк"
   ]
  },
  {
   "cell_type": "code",
   "execution_count": 37,
   "id": "9bfc2ed3-2917-4263-afaf-a36e4f2e03a0",
   "metadata": {},
   "outputs": [
    {
     "data": {
      "text/plain": [
       "Unnamed: 0               129971\n",
       "country                  129908\n",
       "description              129971\n",
       "name                      92507\n",
       "points                   129971\n",
       "price                    120975\n",
       "province                 129908\n",
       "region_1                 108724\n",
       "region_2                  50511\n",
       "taster_name              103727\n",
       "taster_twitter_handle     98758\n",
       "title                    129971\n",
       "variety                  129970\n",
       "winery                   129971\n",
       "rating0_5                129971\n",
       "dtype: int64"
      ]
     },
     "execution_count": 37,
     "metadata": {},
     "output_type": "execute_result"
    }
   ],
   "source": [
    "df.count()"
   ]
  },
  {
   "cell_type": "code",
   "execution_count": 34,
   "id": "62fbe7d6-342d-4807-98a6-cfac0708bf4f",
   "metadata": {},
   "outputs": [
    {
     "data": {
      "text/html": [
       "<div>\n",
       "<style scoped>\n",
       "    .dataframe tbody tr th:only-of-type {\n",
       "        vertical-align: middle;\n",
       "    }\n",
       "\n",
       "    .dataframe tbody tr th {\n",
       "        vertical-align: top;\n",
       "    }\n",
       "\n",
       "    .dataframe thead th {\n",
       "        text-align: right;\n",
       "    }\n",
       "</style>\n",
       "<table border=\"1\" class=\"dataframe\">\n",
       "  <thead>\n",
       "    <tr style=\"text-align: right;\">\n",
       "      <th></th>\n",
       "      <th>Unnamed: 0</th>\n",
       "      <th>country</th>\n",
       "      <th>description</th>\n",
       "      <th>name</th>\n",
       "      <th>points</th>\n",
       "      <th>price</th>\n",
       "      <th>province</th>\n",
       "      <th>region_1</th>\n",
       "      <th>region_2</th>\n",
       "      <th>taster_name</th>\n",
       "      <th>taster_twitter_handle</th>\n",
       "      <th>title</th>\n",
       "      <th>variety</th>\n",
       "      <th>winery</th>\n",
       "      <th>rating0_5</th>\n",
       "    </tr>\n",
       "  </thead>\n",
       "  <tbody>\n",
       "    <tr>\n",
       "      <th>9901</th>\n",
       "      <td>9901</td>\n",
       "      <td>France</td>\n",
       "      <td>A touch of lemon balm adds a breezy freshness ...</td>\n",
       "      <td>Saering Grand Cru</td>\n",
       "      <td>96</td>\n",
       "      <td>29.0</td>\n",
       "      <td>Alsace</td>\n",
       "      <td>Alsace</td>\n",
       "      <td>NaN</td>\n",
       "      <td>Anne Krebiehl MW</td>\n",
       "      <td>@AnneInVino</td>\n",
       "      <td>Domaines Schlumberger 2014 Saering Grand Cru R...</td>\n",
       "      <td>Riesling</td>\n",
       "      <td>Domaines Schlumberger</td>\n",
       "      <td>4.8</td>\n",
       "    </tr>\n",
       "    <tr>\n",
       "      <th>40309</th>\n",
       "      <td>40309</td>\n",
       "      <td>Italy</td>\n",
       "      <td>This stunning Chianti Classico has an intense ...</td>\n",
       "      <td>NaN</td>\n",
       "      <td>96</td>\n",
       "      <td>27.0</td>\n",
       "      <td>Tuscany</td>\n",
       "      <td>Chianti Classico</td>\n",
       "      <td>NaN</td>\n",
       "      <td>Kerin O’Keefe</td>\n",
       "      <td>@kerinokeefe</td>\n",
       "      <td>Isole e Olena 2010  Chianti Classico</td>\n",
       "      <td>Red Blend</td>\n",
       "      <td>Isole e Olena</td>\n",
       "      <td>4.8</td>\n",
       "    </tr>\n",
       "    <tr>\n",
       "      <th>45992</th>\n",
       "      <td>45992</td>\n",
       "      <td>France</td>\n",
       "      <td>With its apricot and honeyed flavors, this is ...</td>\n",
       "      <td>NaN</td>\n",
       "      <td>96</td>\n",
       "      <td>28.0</td>\n",
       "      <td>Bordeaux</td>\n",
       "      <td>Sauternes</td>\n",
       "      <td>NaN</td>\n",
       "      <td>Roger Voss</td>\n",
       "      <td>@vossroger</td>\n",
       "      <td>Château Filhot 2014  Sauternes</td>\n",
       "      <td>Bordeaux-style White Blend</td>\n",
       "      <td>Château Filhot</td>\n",
       "      <td>4.8</td>\n",
       "    </tr>\n",
       "    <tr>\n",
       "      <th>54253</th>\n",
       "      <td>54253</td>\n",
       "      <td>US</td>\n",
       "      <td>Spicy in aroma and mouthfeel, this is a wondro...</td>\n",
       "      <td>Grenache Noir</td>\n",
       "      <td>96</td>\n",
       "      <td>27.0</td>\n",
       "      <td>California</td>\n",
       "      <td>El Dorado</td>\n",
       "      <td>Sierra Foothills</td>\n",
       "      <td>Virginie Boone</td>\n",
       "      <td>@vboone</td>\n",
       "      <td>Donkey &amp; Goat 2012 Grenache Noir Grenache (El ...</td>\n",
       "      <td>Grenache</td>\n",
       "      <td>Donkey &amp; Goat</td>\n",
       "      <td>4.8</td>\n",
       "    </tr>\n",
       "    <tr>\n",
       "      <th>54311</th>\n",
       "      <td>54311</td>\n",
       "      <td>Austria</td>\n",
       "      <td>This wines arrives on tiptoe, citrus-scented a...</td>\n",
       "      <td>Gaisberg Reserve</td>\n",
       "      <td>96</td>\n",
       "      <td>28.0</td>\n",
       "      <td>Kamptal</td>\n",
       "      <td>NaN</td>\n",
       "      <td>NaN</td>\n",
       "      <td>Anne Krebiehl MW</td>\n",
       "      <td>@AnneInVino</td>\n",
       "      <td>Eichinger 2014 Gaisberg Reserve Riesling (Kamp...</td>\n",
       "      <td>Riesling</td>\n",
       "      <td>Eichinger</td>\n",
       "      <td>4.8</td>\n",
       "    </tr>\n",
       "    <tr>\n",
       "      <th>101580</th>\n",
       "      <td>101580</td>\n",
       "      <td>US</td>\n",
       "      <td>Superb fruit highlights this tight, sculpted S...</td>\n",
       "      <td>NaN</td>\n",
       "      <td>96</td>\n",
       "      <td>20.0</td>\n",
       "      <td>Washington</td>\n",
       "      <td>Columbia Valley (WA)</td>\n",
       "      <td>Columbia Valley</td>\n",
       "      <td>Paul Gregutt</td>\n",
       "      <td>@paulgwine</td>\n",
       "      <td>Rulo 2007 Syrah (Columbia Valley (WA))</td>\n",
       "      <td>Syrah</td>\n",
       "      <td>Rulo</td>\n",
       "      <td>4.8</td>\n",
       "    </tr>\n",
       "    <tr>\n",
       "      <th>102489</th>\n",
       "      <td>102489</td>\n",
       "      <td>US</td>\n",
       "      <td>Even if winemaker Jason Lett tripled the price...</td>\n",
       "      <td>Estate</td>\n",
       "      <td>96</td>\n",
       "      <td>27.0</td>\n",
       "      <td>Oregon</td>\n",
       "      <td>Dundee Hills</td>\n",
       "      <td>Willamette Valley</td>\n",
       "      <td>Paul Gregutt</td>\n",
       "      <td>@paulgwine</td>\n",
       "      <td>The Eyrie Vineyards 2014 Estate Chardonnay (Du...</td>\n",
       "      <td>Chardonnay</td>\n",
       "      <td>The Eyrie Vineyards</td>\n",
       "      <td>4.8</td>\n",
       "    </tr>\n",
       "  </tbody>\n",
       "</table>\n",
       "</div>"
      ],
      "text/plain": [
       "        Unnamed: 0  country  \\\n",
       "9901          9901   France   \n",
       "40309        40309    Italy   \n",
       "45992        45992   France   \n",
       "54253        54253       US   \n",
       "54311        54311  Austria   \n",
       "101580      101580       US   \n",
       "102489      102489       US   \n",
       "\n",
       "                                              description               name  \\\n",
       "9901    A touch of lemon balm adds a breezy freshness ...  Saering Grand Cru   \n",
       "40309   This stunning Chianti Classico has an intense ...                NaN   \n",
       "45992   With its apricot and honeyed flavors, this is ...                NaN   \n",
       "54253   Spicy in aroma and mouthfeel, this is a wondro...      Grenache Noir   \n",
       "54311   This wines arrives on tiptoe, citrus-scented a...   Gaisberg Reserve   \n",
       "101580  Superb fruit highlights this tight, sculpted S...                NaN   \n",
       "102489  Even if winemaker Jason Lett tripled the price...             Estate   \n",
       "\n",
       "        points  price    province              region_1           region_2  \\\n",
       "9901        96   29.0      Alsace                Alsace                NaN   \n",
       "40309       96   27.0     Tuscany      Chianti Classico                NaN   \n",
       "45992       96   28.0    Bordeaux             Sauternes                NaN   \n",
       "54253       96   27.0  California             El Dorado   Sierra Foothills   \n",
       "54311       96   28.0     Kamptal                   NaN                NaN   \n",
       "101580      96   20.0  Washington  Columbia Valley (WA)    Columbia Valley   \n",
       "102489      96   27.0      Oregon          Dundee Hills  Willamette Valley   \n",
       "\n",
       "             taster_name taster_twitter_handle  \\\n",
       "9901    Anne Krebiehl MW           @AnneInVino   \n",
       "40309      Kerin O’Keefe          @kerinokeefe   \n",
       "45992         Roger Voss            @vossroger   \n",
       "54253     Virginie Boone               @vboone   \n",
       "54311   Anne Krebiehl MW           @AnneInVino   \n",
       "101580      Paul Gregutt           @paulgwine    \n",
       "102489      Paul Gregutt           @paulgwine    \n",
       "\n",
       "                                                    title  \\\n",
       "9901    Domaines Schlumberger 2014 Saering Grand Cru R...   \n",
       "40309                Isole e Olena 2010  Chianti Classico   \n",
       "45992                      Château Filhot 2014  Sauternes   \n",
       "54253   Donkey & Goat 2012 Grenache Noir Grenache (El ...   \n",
       "54311   Eichinger 2014 Gaisberg Reserve Riesling (Kamp...   \n",
       "101580             Rulo 2007 Syrah (Columbia Valley (WA))   \n",
       "102489  The Eyrie Vineyards 2014 Estate Chardonnay (Du...   \n",
       "\n",
       "                           variety                 winery  rating0_5  \n",
       "9901                      Riesling  Domaines Schlumberger        4.8  \n",
       "40309                    Red Blend          Isole e Olena        4.8  \n",
       "45992   Bordeaux-style White Blend         Château Filhot        4.8  \n",
       "54253                     Grenache          Donkey & Goat        4.8  \n",
       "54311                     Riesling              Eichinger        4.8  \n",
       "101580                       Syrah                   Rulo        4.8  \n",
       "102489                  Chardonnay    The Eyrie Vineyards        4.8  "
      ]
     },
     "execution_count": 34,
     "metadata": {},
     "output_type": "execute_result"
    }
   ],
   "source": [
    "df.loc[(df['price']<30) & (df['points']>95)]"
   ]
  },
  {
   "cell_type": "code",
   "execution_count": 36,
   "id": "7a9445e5-1eb2-4a73-9a5a-7070aaa0c9ed",
   "metadata": {},
   "outputs": [
    {
     "data": {
      "text/plain": [
       "<Axes: >"
      ]
     },
     "execution_count": 36,
     "metadata": {},
     "output_type": "execute_result"
    },
    {
     "data": {
      "image/png": "[encoded data removed]",
      "text/plain": [
       "<Figure size 640x480 with 1 Axes>"
      ]
     },
     "metadata": {},
     "output_type": "display_data"
    }
   ],
   "source": [
    "df.loc[(df['price']<50) & (df['points']>95)]['price'].hist()"
   ]
  },
  {
   "cell_type": "code",
   "execution_count": 38,
   "id": "eb9228a9-9937-4512-b4d7-9e183bc642a4",
   "metadata": {},
   "outputs": [
    {
     "data": {
      "text/plain": [
       "<Axes: xlabel='price', ylabel='points'>"
      ]
     },
     "execution_count": 38,
     "metadata": {},
     "output_type": "execute_result"
    },
    {
     "data": {
      "image/png": "[encoded data removed]",
      "text/plain": [
       "<Figure size 1500x300 with 1 Axes>"
      ]
     },
     "metadata": {},
     "output_type": "display_data"
    }
   ],
   "source": [
    "df.loc[(df['price']<1000)].plot(y='points', x='price', figsize=(15,3), kind = \"scatter\")\n"
   ]
  }
 ],
 "metadata": {
  "kernelspec": {
   "display_name": "Python 3 (ipykernel)",
   "language": "python",
   "name": "python3"
  },
  "language_info": {
   "codemirror_mode": {
    "name": "ipython",
    "version": 3
   },
   "file_extension": ".py",
   "mimetype": "text/x-python",
   "name": "python",
   "nbconvert_exporter": "python",
   "pygments_lexer": "ipython3",
   "version": "3.12.0"
  }
 },
 "nbformat": 4,
 "nbformat_minor": 5
}
